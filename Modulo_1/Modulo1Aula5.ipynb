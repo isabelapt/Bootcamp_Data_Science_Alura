{
  "nbformat": 4,
  "nbformat_minor": 0,
  "metadata": {
    "colab": {
      "name": "Modulo1Aula5.ipynb",
      "provenance": [],
      "collapsed_sections": [],
      "toc_visible": true,
      "authorship_tag": "ABX9TyPCtVVTESvsmVkd3s9Bx2Q3",
      "include_colab_link": true
    },
    "kernelspec": {
      "name": "python3",
      "display_name": "Python 3"
    },
    "language_info": {
      "name": "python"
    }
  },
  "cells": [
    {
      "cell_type": "markdown",
      "metadata": {
        "id": "view-in-github",
        "colab_type": "text"
      },
      "source": [
        "<a href=\"https://colab.research.google.com/github/isabelapt/Bootcamp_Data_Science_Alura/blob/main/Modulo_1/Modulo1Aula5.ipynb\" target=\"_parent\"><img src=\"https://colab.research.google.com/assets/colab-badge.svg\" alt=\"Open In Colab\"/></a>"
      ]
    },
    {
      "cell_type": "markdown",
      "metadata": {
        "id": "KneE_xcbl_AF"
      },
      "source": [
        "## **ANALISANDO DADOS DA SAÚDE COM PYTHON E PANDAS**"
      ]
    },
    {
      "cell_type": "markdown",
      "metadata": {
        "id": "xhP2Q7-tmQVt"
      },
      "source": [
        "# Aula 4: Alternativas de visualizações"
      ]
    },
    {
      "cell_type": "markdown",
      "metadata": {
        "id": "wvxcEbBBkuPf"
      },
      "source": [
        "Importando todas as bibliotecas necessárias"
      ]
    },
    {
      "cell_type": "code",
      "metadata": {
        "id": "P0gSRZu0k0yU"
      },
      "source": [
        "import pandas as pd\n",
        "import numpy as np\n",
        "import matplotlib.pyplot as plt\n",
        "import matplotlib.ticker as ticker"
      ],
      "execution_count": 307,
      "outputs": []
    },
    {
      "cell_type": "code",
      "metadata": {
        "colab": {
          "base_uri": "https://localhost:8080/",
          "height": 393
        },
        "id": "mgcmgyQ5vZje",
        "outputId": "4f1de4c0-5dce-4fe7-f3c4-7ac06ee34db1"
      },
      "source": [
        "URL = \"https://raw.githubusercontent.com/isabelapt/agendamento-hospitalar/main/dados/A160324189_28_143_208.csv\"\n",
        "dados = pd.read_csv(URL, encoding=\"ISO-8859-1\", skiprows = 3, skipfooter=12, sep=\";\",                     \n",
        "                    thousands=\".\", decimal=\",\", engine='python')\n",
        "\n",
        "# A média retorna somente os valores para as colunas que tem todas as linhas preenchidas\n",
        "# Index é imutável\n",
        "# Para inserir mais uma coluna em colunas preenchidas tem que transformar para lista : .tolist()\n",
        "colunas_preenchidas = dados.mean().index.tolist()\n",
        "\n",
        "# Inserir, na posição 0, ou seja, no começo do dataset (para facilitar),\n",
        "# o valor “Unidade da Federação”.\n",
        "colunas_preenchidas.insert(0,\"Unidade da Federação\")\n",
        "\n",
        "# Fazer slice no dataFrame usando só as colunas_preenchidas\n",
        "dados_usaveis = dados[colunas_preenchidas]\n",
        "\n",
        "# Mudar o index para ser a coluna \"Unidade da Federação\"\n",
        "# O set_index retorna um valor novo que tem que ser reatribuido\n",
        "dados_usaveis = dados_usaveis.set_index(\"Unidade da Federação\")\n",
        "\n",
        "# Ordenado pelo valor total de gastos de todos os períodos de tempo\n",
        "ordenado_por_total = dados_usaveis.sort_values(\"Total\", ascending=False) \n",
        "ordenado_por_total = ordenado_por_total.drop(\"Total\", axis=1)\n",
        "ordenado_por_total.head()"
      ],
      "execution_count": 308,
      "outputs": [
        {
          "output_type": "execute_result",
          "data": {
            "text/html": [
              "<div>\n",
              "<style scoped>\n",
              "    .dataframe tbody tr th:only-of-type {\n",
              "        vertical-align: middle;\n",
              "    }\n",
              "\n",
              "    .dataframe tbody tr th {\n",
              "        vertical-align: top;\n",
              "    }\n",
              "\n",
              "    .dataframe thead th {\n",
              "        text-align: right;\n",
              "    }\n",
              "</style>\n",
              "<table border=\"1\" class=\"dataframe\">\n",
              "  <thead>\n",
              "    <tr style=\"text-align: right;\">\n",
              "      <th></th>\n",
              "      <th>2007/Ago</th>\n",
              "      <th>2007/Set</th>\n",
              "      <th>2007/Out</th>\n",
              "      <th>2007/Nov</th>\n",
              "      <th>2007/Dez</th>\n",
              "      <th>2008/Jan</th>\n",
              "      <th>2008/Fev</th>\n",
              "      <th>2008/Mar</th>\n",
              "      <th>2008/Abr</th>\n",
              "      <th>2008/Mai</th>\n",
              "      <th>2008/Jun</th>\n",
              "      <th>2008/Jul</th>\n",
              "      <th>2008/Ago</th>\n",
              "      <th>2008/Set</th>\n",
              "      <th>2008/Out</th>\n",
              "      <th>2008/Nov</th>\n",
              "      <th>2008/Dez</th>\n",
              "      <th>2009/Jan</th>\n",
              "      <th>2009/Fev</th>\n",
              "      <th>2009/Mar</th>\n",
              "      <th>2009/Abr</th>\n",
              "      <th>2009/Mai</th>\n",
              "      <th>2009/Jun</th>\n",
              "      <th>2009/Jul</th>\n",
              "      <th>2009/Ago</th>\n",
              "      <th>2009/Set</th>\n",
              "      <th>2009/Out</th>\n",
              "      <th>2009/Nov</th>\n",
              "      <th>2009/Dez</th>\n",
              "      <th>2010/Jan</th>\n",
              "      <th>2010/Fev</th>\n",
              "      <th>2010/Mar</th>\n",
              "      <th>2010/Abr</th>\n",
              "      <th>2010/Mai</th>\n",
              "      <th>2010/Jun</th>\n",
              "      <th>2010/Jul</th>\n",
              "      <th>2010/Ago</th>\n",
              "      <th>2010/Set</th>\n",
              "      <th>2010/Out</th>\n",
              "      <th>2010/Nov</th>\n",
              "      <th>...</th>\n",
              "      <th>2017/Abr</th>\n",
              "      <th>2017/Mai</th>\n",
              "      <th>2017/Jun</th>\n",
              "      <th>2017/Jul</th>\n",
              "      <th>2017/Ago</th>\n",
              "      <th>2017/Set</th>\n",
              "      <th>2017/Out</th>\n",
              "      <th>2017/Nov</th>\n",
              "      <th>2017/Dez</th>\n",
              "      <th>2018/Jan</th>\n",
              "      <th>2018/Fev</th>\n",
              "      <th>2018/Mar</th>\n",
              "      <th>2018/Abr</th>\n",
              "      <th>2018/Mai</th>\n",
              "      <th>2018/Jun</th>\n",
              "      <th>2018/Jul</th>\n",
              "      <th>2018/Ago</th>\n",
              "      <th>2018/Set</th>\n",
              "      <th>2018/Out</th>\n",
              "      <th>2018/Nov</th>\n",
              "      <th>2018/Dez</th>\n",
              "      <th>2019/Jan</th>\n",
              "      <th>2019/Fev</th>\n",
              "      <th>2019/Mar</th>\n",
              "      <th>2019/Abr</th>\n",
              "      <th>2019/Mai</th>\n",
              "      <th>2019/Jun</th>\n",
              "      <th>2019/Jul</th>\n",
              "      <th>2019/Ago</th>\n",
              "      <th>2019/Set</th>\n",
              "      <th>2019/Out</th>\n",
              "      <th>2019/Nov</th>\n",
              "      <th>2019/Dez</th>\n",
              "      <th>2020/Jan</th>\n",
              "      <th>2020/Fev</th>\n",
              "      <th>2020/Mar</th>\n",
              "      <th>2020/Abr</th>\n",
              "      <th>2020/Mai</th>\n",
              "      <th>2020/Jun</th>\n",
              "      <th>2020/Jul</th>\n",
              "    </tr>\n",
              "    <tr>\n",
              "      <th>Unidade da Federação</th>\n",
              "      <th></th>\n",
              "      <th></th>\n",
              "      <th></th>\n",
              "      <th></th>\n",
              "      <th></th>\n",
              "      <th></th>\n",
              "      <th></th>\n",
              "      <th></th>\n",
              "      <th></th>\n",
              "      <th></th>\n",
              "      <th></th>\n",
              "      <th></th>\n",
              "      <th></th>\n",
              "      <th></th>\n",
              "      <th></th>\n",
              "      <th></th>\n",
              "      <th></th>\n",
              "      <th></th>\n",
              "      <th></th>\n",
              "      <th></th>\n",
              "      <th></th>\n",
              "      <th></th>\n",
              "      <th></th>\n",
              "      <th></th>\n",
              "      <th></th>\n",
              "      <th></th>\n",
              "      <th></th>\n",
              "      <th></th>\n",
              "      <th></th>\n",
              "      <th></th>\n",
              "      <th></th>\n",
              "      <th></th>\n",
              "      <th></th>\n",
              "      <th></th>\n",
              "      <th></th>\n",
              "      <th></th>\n",
              "      <th></th>\n",
              "      <th></th>\n",
              "      <th></th>\n",
              "      <th></th>\n",
              "      <th></th>\n",
              "      <th></th>\n",
              "      <th></th>\n",
              "      <th></th>\n",
              "      <th></th>\n",
              "      <th></th>\n",
              "      <th></th>\n",
              "      <th></th>\n",
              "      <th></th>\n",
              "      <th></th>\n",
              "      <th></th>\n",
              "      <th></th>\n",
              "      <th></th>\n",
              "      <th></th>\n",
              "      <th></th>\n",
              "      <th></th>\n",
              "      <th></th>\n",
              "      <th></th>\n",
              "      <th></th>\n",
              "      <th></th>\n",
              "      <th></th>\n",
              "      <th></th>\n",
              "      <th></th>\n",
              "      <th></th>\n",
              "      <th></th>\n",
              "      <th></th>\n",
              "      <th></th>\n",
              "      <th></th>\n",
              "      <th></th>\n",
              "      <th></th>\n",
              "      <th></th>\n",
              "      <th></th>\n",
              "      <th></th>\n",
              "      <th></th>\n",
              "      <th></th>\n",
              "      <th></th>\n",
              "      <th></th>\n",
              "      <th></th>\n",
              "      <th></th>\n",
              "      <th></th>\n",
              "      <th></th>\n",
              "    </tr>\n",
              "  </thead>\n",
              "  <tbody>\n",
              "    <tr>\n",
              "      <th>35 São Paulo</th>\n",
              "      <td>1665349.90</td>\n",
              "      <td>4434168.64</td>\n",
              "      <td>14577395.84</td>\n",
              "      <td>35032259.98</td>\n",
              "      <td>76668547.41</td>\n",
              "      <td>1.023565e+09</td>\n",
              "      <td>1.728349e+08</td>\n",
              "      <td>1.704818e+08</td>\n",
              "      <td>1.702783e+08</td>\n",
              "      <td>1.724022e+08</td>\n",
              "      <td>1.754166e+08</td>\n",
              "      <td>1.795250e+08</td>\n",
              "      <td>1.798981e+08</td>\n",
              "      <td>1.800822e+08</td>\n",
              "      <td>1.916852e+08</td>\n",
              "      <td>1.905397e+08</td>\n",
              "      <td>1.770864e+08</td>\n",
              "      <td>1.923216e+08</td>\n",
              "      <td>1.785964e+08</td>\n",
              "      <td>2.169516e+08</td>\n",
              "      <td>2.150530e+08</td>\n",
              "      <td>2.128902e+08</td>\n",
              "      <td>2.126709e+08</td>\n",
              "      <td>2.140412e+08</td>\n",
              "      <td>2.152125e+08</td>\n",
              "      <td>2.141354e+08</td>\n",
              "      <td>2.160566e+08</td>\n",
              "      <td>2.089739e+08</td>\n",
              "      <td>1.921271e+08</td>\n",
              "      <td>2.134679e+08</td>\n",
              "      <td>1.957848e+08</td>\n",
              "      <td>2.393239e+08</td>\n",
              "      <td>2.211730e+08</td>\n",
              "      <td>2.317775e+08</td>\n",
              "      <td>2.239338e+08</td>\n",
              "      <td>2.240679e+08</td>\n",
              "      <td>2.480101e+08</td>\n",
              "      <td>2.240530e+08</td>\n",
              "      <td>2.389355e+08</td>\n",
              "      <td>2.254841e+08</td>\n",
              "      <td>...</td>\n",
              "      <td>2.634718e+08</td>\n",
              "      <td>2.921134e+08</td>\n",
              "      <td>2.743011e+08</td>\n",
              "      <td>2.835346e+08</td>\n",
              "      <td>3.005937e+08</td>\n",
              "      <td>2.672972e+08</td>\n",
              "      <td>2.871148e+08</td>\n",
              "      <td>2.671132e+08</td>\n",
              "      <td>2.594517e+08</td>\n",
              "      <td>2.794976e+08</td>\n",
              "      <td>2.540046e+08</td>\n",
              "      <td>2.852706e+08</td>\n",
              "      <td>2.861920e+08</td>\n",
              "      <td>2.914409e+08</td>\n",
              "      <td>2.789260e+08</td>\n",
              "      <td>2.858519e+08</td>\n",
              "      <td>2.954193e+08</td>\n",
              "      <td>2.775762e+08</td>\n",
              "      <td>3.014549e+08</td>\n",
              "      <td>2.781143e+08</td>\n",
              "      <td>2.662398e+08</td>\n",
              "      <td>2.910814e+08</td>\n",
              "      <td>2.676625e+08</td>\n",
              "      <td>2.855763e+08</td>\n",
              "      <td>2.925848e+08</td>\n",
              "      <td>3.089256e+08</td>\n",
              "      <td>2.814051e+08</td>\n",
              "      <td>3.066340e+08</td>\n",
              "      <td>3.023673e+08</td>\n",
              "      <td>2.936857e+08</td>\n",
              "      <td>3.033825e+08</td>\n",
              "      <td>2.823918e+08</td>\n",
              "      <td>2.726977e+08</td>\n",
              "      <td>3.019912e+08</td>\n",
              "      <td>2.713568e+08</td>\n",
              "      <td>2.766063e+08</td>\n",
              "      <td>2.516964e+08</td>\n",
              "      <td>3.028577e+08</td>\n",
              "      <td>2.990609e+08</td>\n",
              "      <td>2.827096e+08</td>\n",
              "    </tr>\n",
              "    <tr>\n",
              "      <th>31 Minas Gerais</th>\n",
              "      <td>971394.37</td>\n",
              "      <td>2861781.50</td>\n",
              "      <td>10018011.35</td>\n",
              "      <td>21730281.63</td>\n",
              "      <td>43429517.54</td>\n",
              "      <td>2.059127e+08</td>\n",
              "      <td>7.030109e+07</td>\n",
              "      <td>7.911901e+07</td>\n",
              "      <td>7.904632e+07</td>\n",
              "      <td>7.926807e+07</td>\n",
              "      <td>7.960865e+07</td>\n",
              "      <td>8.220022e+07</td>\n",
              "      <td>8.037412e+07</td>\n",
              "      <td>8.240015e+07</td>\n",
              "      <td>8.861348e+07</td>\n",
              "      <td>8.448700e+07</td>\n",
              "      <td>8.892863e+07</td>\n",
              "      <td>9.901816e+07</td>\n",
              "      <td>8.367512e+07</td>\n",
              "      <td>1.002407e+08</td>\n",
              "      <td>9.183133e+07</td>\n",
              "      <td>9.728970e+07</td>\n",
              "      <td>9.572340e+07</td>\n",
              "      <td>1.000500e+08</td>\n",
              "      <td>9.896806e+07</td>\n",
              "      <td>9.820212e+07</td>\n",
              "      <td>9.696239e+07</td>\n",
              "      <td>9.476764e+07</td>\n",
              "      <td>9.241277e+07</td>\n",
              "      <td>9.580656e+07</td>\n",
              "      <td>9.076489e+07</td>\n",
              "      <td>1.073899e+08</td>\n",
              "      <td>1.008298e+08</td>\n",
              "      <td>1.054856e+08</td>\n",
              "      <td>9.966612e+07</td>\n",
              "      <td>1.033570e+08</td>\n",
              "      <td>1.078443e+08</td>\n",
              "      <td>1.043411e+08</td>\n",
              "      <td>1.005254e+08</td>\n",
              "      <td>1.019436e+08</td>\n",
              "      <td>...</td>\n",
              "      <td>1.367151e+08</td>\n",
              "      <td>1.534121e+08</td>\n",
              "      <td>1.442914e+08</td>\n",
              "      <td>1.475335e+08</td>\n",
              "      <td>1.560556e+08</td>\n",
              "      <td>1.422851e+08</td>\n",
              "      <td>1.483061e+08</td>\n",
              "      <td>1.423239e+08</td>\n",
              "      <td>1.383412e+08</td>\n",
              "      <td>1.465016e+08</td>\n",
              "      <td>1.307021e+08</td>\n",
              "      <td>1.514962e+08</td>\n",
              "      <td>1.506876e+08</td>\n",
              "      <td>1.535893e+08</td>\n",
              "      <td>1.502518e+08</td>\n",
              "      <td>1.566340e+08</td>\n",
              "      <td>1.604200e+08</td>\n",
              "      <td>1.459410e+08</td>\n",
              "      <td>1.572476e+08</td>\n",
              "      <td>1.481728e+08</td>\n",
              "      <td>1.453872e+08</td>\n",
              "      <td>1.531773e+08</td>\n",
              "      <td>1.426692e+08</td>\n",
              "      <td>1.519436e+08</td>\n",
              "      <td>1.579226e+08</td>\n",
              "      <td>1.635915e+08</td>\n",
              "      <td>1.541148e+08</td>\n",
              "      <td>1.667357e+08</td>\n",
              "      <td>1.617078e+08</td>\n",
              "      <td>1.574197e+08</td>\n",
              "      <td>1.661338e+08</td>\n",
              "      <td>1.521067e+08</td>\n",
              "      <td>1.523986e+08</td>\n",
              "      <td>1.580979e+08</td>\n",
              "      <td>1.413232e+08</td>\n",
              "      <td>1.470786e+08</td>\n",
              "      <td>1.263306e+08</td>\n",
              "      <td>1.368673e+08</td>\n",
              "      <td>1.359776e+08</td>\n",
              "      <td>1.204672e+08</td>\n",
              "    </tr>\n",
              "    <tr>\n",
              "      <th>41 Paraná</th>\n",
              "      <td>554800.22</td>\n",
              "      <td>1431708.01</td>\n",
              "      <td>4630402.44</td>\n",
              "      <td>11120030.79</td>\n",
              "      <td>28790722.87</td>\n",
              "      <td>5.808133e+07</td>\n",
              "      <td>4.885505e+07</td>\n",
              "      <td>5.561179e+07</td>\n",
              "      <td>5.611514e+07</td>\n",
              "      <td>5.557483e+07</td>\n",
              "      <td>5.609475e+07</td>\n",
              "      <td>5.980240e+07</td>\n",
              "      <td>5.669900e+07</td>\n",
              "      <td>5.809199e+07</td>\n",
              "      <td>6.136594e+07</td>\n",
              "      <td>5.966721e+07</td>\n",
              "      <td>5.781620e+07</td>\n",
              "      <td>6.038159e+07</td>\n",
              "      <td>5.723910e+07</td>\n",
              "      <td>6.907049e+07</td>\n",
              "      <td>6.405468e+07</td>\n",
              "      <td>6.868554e+07</td>\n",
              "      <td>6.793123e+07</td>\n",
              "      <td>7.095876e+07</td>\n",
              "      <td>6.922578e+07</td>\n",
              "      <td>6.784997e+07</td>\n",
              "      <td>6.855821e+07</td>\n",
              "      <td>6.715850e+07</td>\n",
              "      <td>6.309427e+07</td>\n",
              "      <td>6.690264e+07</td>\n",
              "      <td>6.450113e+07</td>\n",
              "      <td>7.713887e+07</td>\n",
              "      <td>7.075540e+07</td>\n",
              "      <td>7.345676e+07</td>\n",
              "      <td>7.183902e+07</td>\n",
              "      <td>7.301383e+07</td>\n",
              "      <td>7.615101e+07</td>\n",
              "      <td>7.424096e+07</td>\n",
              "      <td>7.304239e+07</td>\n",
              "      <td>7.636475e+07</td>\n",
              "      <td>...</td>\n",
              "      <td>1.060277e+08</td>\n",
              "      <td>1.205353e+08</td>\n",
              "      <td>1.117253e+08</td>\n",
              "      <td>1.185902e+08</td>\n",
              "      <td>1.221228e+08</td>\n",
              "      <td>1.106561e+08</td>\n",
              "      <td>1.175677e+08</td>\n",
              "      <td>1.124575e+08</td>\n",
              "      <td>1.055581e+08</td>\n",
              "      <td>1.161332e+08</td>\n",
              "      <td>1.070760e+08</td>\n",
              "      <td>1.223314e+08</td>\n",
              "      <td>1.247313e+08</td>\n",
              "      <td>1.270739e+08</td>\n",
              "      <td>1.226169e+08</td>\n",
              "      <td>1.279919e+08</td>\n",
              "      <td>1.312572e+08</td>\n",
              "      <td>1.206474e+08</td>\n",
              "      <td>1.295302e+08</td>\n",
              "      <td>1.218107e+08</td>\n",
              "      <td>1.129846e+08</td>\n",
              "      <td>1.241592e+08</td>\n",
              "      <td>1.177155e+08</td>\n",
              "      <td>1.239074e+08</td>\n",
              "      <td>1.274470e+08</td>\n",
              "      <td>1.325766e+08</td>\n",
              "      <td>1.248583e+08</td>\n",
              "      <td>1.346213e+08</td>\n",
              "      <td>1.271741e+08</td>\n",
              "      <td>1.261727e+08</td>\n",
              "      <td>1.338480e+08</td>\n",
              "      <td>1.262094e+08</td>\n",
              "      <td>1.135453e+08</td>\n",
              "      <td>1.222688e+08</td>\n",
              "      <td>1.160616e+08</td>\n",
              "      <td>1.144770e+08</td>\n",
              "      <td>9.672711e+07</td>\n",
              "      <td>1.061037e+08</td>\n",
              "      <td>9.290146e+07</td>\n",
              "      <td>8.032085e+07</td>\n",
              "    </tr>\n",
              "    <tr>\n",
              "      <th>43 Rio Grande do Sul</th>\n",
              "      <td>1049252.33</td>\n",
              "      <td>3182913.14</td>\n",
              "      <td>8571312.11</td>\n",
              "      <td>16592432.80</td>\n",
              "      <td>30134255.70</td>\n",
              "      <td>5.106461e+07</td>\n",
              "      <td>4.589770e+07</td>\n",
              "      <td>5.292870e+07</td>\n",
              "      <td>5.197242e+07</td>\n",
              "      <td>5.167935e+07</td>\n",
              "      <td>5.375967e+07</td>\n",
              "      <td>5.639165e+07</td>\n",
              "      <td>5.623376e+07</td>\n",
              "      <td>5.791017e+07</td>\n",
              "      <td>5.959212e+07</td>\n",
              "      <td>5.756574e+07</td>\n",
              "      <td>5.569692e+07</td>\n",
              "      <td>6.152238e+07</td>\n",
              "      <td>5.210164e+07</td>\n",
              "      <td>6.511197e+07</td>\n",
              "      <td>6.159083e+07</td>\n",
              "      <td>6.440229e+07</td>\n",
              "      <td>6.309064e+07</td>\n",
              "      <td>6.913700e+07</td>\n",
              "      <td>6.606263e+07</td>\n",
              "      <td>6.522201e+07</td>\n",
              "      <td>6.756941e+07</td>\n",
              "      <td>6.418912e+07</td>\n",
              "      <td>6.224428e+07</td>\n",
              "      <td>6.548839e+07</td>\n",
              "      <td>5.696453e+07</td>\n",
              "      <td>6.993358e+07</td>\n",
              "      <td>6.648684e+07</td>\n",
              "      <td>6.910837e+07</td>\n",
              "      <td>6.757077e+07</td>\n",
              "      <td>7.007475e+07</td>\n",
              "      <td>7.088401e+07</td>\n",
              "      <td>6.507979e+07</td>\n",
              "      <td>6.655602e+07</td>\n",
              "      <td>6.609703e+07</td>\n",
              "      <td>...</td>\n",
              "      <td>8.318838e+07</td>\n",
              "      <td>9.514995e+07</td>\n",
              "      <td>9.317241e+07</td>\n",
              "      <td>9.441526e+07</td>\n",
              "      <td>9.422816e+07</td>\n",
              "      <td>8.642477e+07</td>\n",
              "      <td>9.159818e+07</td>\n",
              "      <td>8.579370e+07</td>\n",
              "      <td>8.273757e+07</td>\n",
              "      <td>9.182567e+07</td>\n",
              "      <td>7.758201e+07</td>\n",
              "      <td>9.107833e+07</td>\n",
              "      <td>9.192677e+07</td>\n",
              "      <td>9.167813e+07</td>\n",
              "      <td>9.098989e+07</td>\n",
              "      <td>9.486101e+07</td>\n",
              "      <td>9.679964e+07</td>\n",
              "      <td>8.734427e+07</td>\n",
              "      <td>9.737110e+07</td>\n",
              "      <td>9.019077e+07</td>\n",
              "      <td>8.174888e+07</td>\n",
              "      <td>9.246710e+07</td>\n",
              "      <td>8.530100e+07</td>\n",
              "      <td>9.162434e+07</td>\n",
              "      <td>9.278795e+07</td>\n",
              "      <td>9.911764e+07</td>\n",
              "      <td>9.584051e+07</td>\n",
              "      <td>1.030282e+08</td>\n",
              "      <td>9.854611e+07</td>\n",
              "      <td>9.436919e+07</td>\n",
              "      <td>9.691390e+07</td>\n",
              "      <td>9.097181e+07</td>\n",
              "      <td>8.872087e+07</td>\n",
              "      <td>9.747436e+07</td>\n",
              "      <td>8.545165e+07</td>\n",
              "      <td>8.465140e+07</td>\n",
              "      <td>7.629460e+07</td>\n",
              "      <td>8.607611e+07</td>\n",
              "      <td>8.901948e+07</td>\n",
              "      <td>7.892970e+07</td>\n",
              "    </tr>\n",
              "    <tr>\n",
              "      <th>33 Rio de Janeiro</th>\n",
              "      <td>469469.34</td>\n",
              "      <td>921646.57</td>\n",
              "      <td>2994664.57</td>\n",
              "      <td>7250528.08</td>\n",
              "      <td>13627123.27</td>\n",
              "      <td>2.505650e+08</td>\n",
              "      <td>4.412259e+07</td>\n",
              "      <td>4.289267e+07</td>\n",
              "      <td>4.529596e+07</td>\n",
              "      <td>4.395135e+07</td>\n",
              "      <td>4.410293e+07</td>\n",
              "      <td>4.434852e+07</td>\n",
              "      <td>4.248794e+07</td>\n",
              "      <td>4.306646e+07</td>\n",
              "      <td>4.455331e+07</td>\n",
              "      <td>4.135151e+07</td>\n",
              "      <td>4.300979e+07</td>\n",
              "      <td>6.087040e+07</td>\n",
              "      <td>4.065784e+07</td>\n",
              "      <td>5.274937e+07</td>\n",
              "      <td>4.889560e+07</td>\n",
              "      <td>5.116713e+07</td>\n",
              "      <td>5.723141e+07</td>\n",
              "      <td>5.348566e+07</td>\n",
              "      <td>5.122066e+07</td>\n",
              "      <td>4.848129e+07</td>\n",
              "      <td>4.866800e+07</td>\n",
              "      <td>4.968521e+07</td>\n",
              "      <td>4.440786e+07</td>\n",
              "      <td>5.599371e+07</td>\n",
              "      <td>4.482045e+07</td>\n",
              "      <td>5.445799e+07</td>\n",
              "      <td>7.811810e+07</td>\n",
              "      <td>5.600780e+07</td>\n",
              "      <td>5.143583e+07</td>\n",
              "      <td>5.386128e+07</td>\n",
              "      <td>5.786729e+07</td>\n",
              "      <td>5.373602e+07</td>\n",
              "      <td>5.237116e+07</td>\n",
              "      <td>5.022062e+07</td>\n",
              "      <td>...</td>\n",
              "      <td>6.452451e+07</td>\n",
              "      <td>7.431706e+07</td>\n",
              "      <td>6.985403e+07</td>\n",
              "      <td>7.315485e+07</td>\n",
              "      <td>7.454192e+07</td>\n",
              "      <td>6.872945e+07</td>\n",
              "      <td>7.308490e+07</td>\n",
              "      <td>6.926088e+07</td>\n",
              "      <td>6.731662e+07</td>\n",
              "      <td>7.233988e+07</td>\n",
              "      <td>6.501705e+07</td>\n",
              "      <td>7.438664e+07</td>\n",
              "      <td>7.451810e+07</td>\n",
              "      <td>7.925978e+07</td>\n",
              "      <td>7.590771e+07</td>\n",
              "      <td>7.748669e+07</td>\n",
              "      <td>7.878407e+07</td>\n",
              "      <td>7.283765e+07</td>\n",
              "      <td>7.913817e+07</td>\n",
              "      <td>7.394690e+07</td>\n",
              "      <td>7.068819e+07</td>\n",
              "      <td>7.946838e+07</td>\n",
              "      <td>7.379501e+07</td>\n",
              "      <td>7.491940e+07</td>\n",
              "      <td>7.666697e+07</td>\n",
              "      <td>8.244073e+07</td>\n",
              "      <td>7.819065e+07</td>\n",
              "      <td>8.798449e+07</td>\n",
              "      <td>8.331160e+07</td>\n",
              "      <td>8.114669e+07</td>\n",
              "      <td>8.224773e+07</td>\n",
              "      <td>7.462048e+07</td>\n",
              "      <td>7.489586e+07</td>\n",
              "      <td>7.970566e+07</td>\n",
              "      <td>7.241281e+07</td>\n",
              "      <td>7.359450e+07</td>\n",
              "      <td>6.816077e+07</td>\n",
              "      <td>8.628103e+07</td>\n",
              "      <td>7.760493e+07</td>\n",
              "      <td>7.154023e+07</td>\n",
              "    </tr>\n",
              "  </tbody>\n",
              "</table>\n",
              "<p>5 rows × 156 columns</p>\n",
              "</div>"
            ],
            "text/plain": [
              "                        2007/Ago    2007/Set  ...      2020/Jun      2020/Jul\n",
              "Unidade da Federação                          ...                            \n",
              "35 São Paulo          1665349.90  4434168.64  ...  2.990609e+08  2.827096e+08\n",
              "31 Minas Gerais        971394.37  2861781.50  ...  1.359776e+08  1.204672e+08\n",
              "41 Paraná              554800.22  1431708.01  ...  9.290146e+07  8.032085e+07\n",
              "43 Rio Grande do Sul  1049252.33  3182913.14  ...  8.901948e+07  7.892970e+07\n",
              "33 Rio de Janeiro      469469.34   921646.57  ...  7.760493e+07  7.154023e+07\n",
              "\n",
              "[5 rows x 156 columns]"
            ]
          },
          "metadata": {
            "tags": []
          },
          "execution_count": 308
        }
      ]
    },
    {
      "cell_type": "code",
      "metadata": {
        "colab": {
          "base_uri": "https://localhost:8080/"
        },
        "id": "Mu52YteFwMQU",
        "outputId": "4bee8b39-be3f-4b30-a73b-a04b5d629737"
      },
      "source": [
        "mes_mais_recente = ordenado_por_total.columns[-1]\n",
        "gastos_mes_mais_recente = ordenado_por_total[mes_mais_recente]\n",
        "gastos_mes_mais_recente.head()"
      ],
      "execution_count": 309,
      "outputs": [
        {
          "output_type": "execute_result",
          "data": {
            "text/plain": [
              "Unidade da Federação\n",
              "35 São Paulo            2.827096e+08\n",
              "31 Minas Gerais         1.204672e+08\n",
              "41 Paraná               8.032085e+07\n",
              "43 Rio Grande do Sul    7.892970e+07\n",
              "33 Rio de Janeiro       7.154023e+07\n",
              "Name: 2020/Jul, dtype: float64"
            ]
          },
          "metadata": {
            "tags": []
          },
          "execution_count": 309
        }
      ]
    },
    {
      "cell_type": "code",
      "metadata": {
        "colab": {
          "base_uri": "https://localhost:8080/",
          "height": 306
        },
        "id": "LK0v47oVwwRy",
        "outputId": "ce6e35d9-8f91-4e91-be18-f673fce814b0"
      },
      "source": [
        "gastos_mes_mais_recente.plot()"
      ],
      "execution_count": 310,
      "outputs": [
        {
          "output_type": "execute_result",
          "data": {
            "text/plain": [
              "<matplotlib.axes._subplots.AxesSubplot at 0x7ff840243110>"
            ]
          },
          "metadata": {
            "tags": []
          },
          "execution_count": 310
        },
        {
          "output_type": "display_data",
          "data": {
            "image/png": "[encoded data removed]",
            "text/plain": [
              "<Figure size 432x288 with 1 Axes>"
            ]
          },
          "metadata": {
            "tags": [],
            "needs_background": "light"
          }
        }
      ]
    },
    {
      "cell_type": "code",
      "metadata": {
        "colab": {
          "base_uri": "https://localhost:8080/",
          "height": 264
        },
        "id": "7MuAnQXKyMaP",
        "outputId": "6daf834c-db4d-4bfe-ef84-9038b7cfc28c"
      },
      "source": [
        "gastos_mes_mais_recente.plot(kind='pie')"
      ],
      "execution_count": 311,
      "outputs": [
        {
          "output_type": "execute_result",
          "data": {
            "text/plain": [
              "<matplotlib.axes._subplots.AxesSubplot at 0x7ff83fd45450>"
            ]
          },
          "metadata": {
            "tags": []
          },
          "execution_count": 311
        },
        {
          "output_type": "display_data",
          "data": {
            "image/png": "[encoded data removed]",
            "text/plain": [
              "<Figure size 432x288 with 1 Axes>"
            ]
          },
          "metadata": {
            "tags": []
          }
        }
      ]
    },
    {
      "cell_type": "code",
      "metadata": {
        "colab": {
          "base_uri": "https://localhost:8080/",
          "height": 264
        },
        "id": "z2AmB13nzMxr",
        "outputId": "a87fc830-67c3-464b-a914-ef32235fca32"
      },
      "source": [
        "gastos_mes_mais_recente.sample(frac=1).plot(kind='pie') # not ordered"
      ],
      "execution_count": 312,
      "outputs": [
        {
          "output_type": "execute_result",
          "data": {
            "text/plain": [
              "<matplotlib.axes._subplots.AxesSubplot at 0x7ff83fd16750>"
            ]
          },
          "metadata": {
            "tags": []
          },
          "execution_count": 312
        },
        {
          "output_type": "display_data",
          "data": {
            "image/png": "[encoded data removed]",
            "text/plain": [
              "<Figure size 432x288 with 1 Axes>"
            ]
          },
          "metadata": {
            "tags": []
          }
        }
      ]
    },
    {
      "cell_type": "markdown",
      "metadata": {
        "id": "9FPaNj8Fw1aB"
      },
      "source": [
        "**Comments:**\n",
        "* To plot just one serie, line plot is a poor plot.\n",
        "* Pie plot is not a good option\n",
        "  * With a great number of labels, legends a too tight and the colors can be repeated\n",
        "  * It is not good to see the difference, unless the graph is ordernated"
      ]
    },
    {
      "cell_type": "code",
      "metadata": {
        "colab": {
          "base_uri": "https://localhost:8080/"
        },
        "id": "iWUa02bHz2qm",
        "outputId": "e5f95aa8-5745-497e-c57c-7408ca51ae84"
      },
      "source": [
        "# Data related to Rio de Janeiro\n",
        "gastos_mes_mais_recente/gastos_mes_mais_recente.loc[\"33 Rio de Janeiro\"]"
      ],
      "execution_count": 313,
      "outputs": [
        {
          "output_type": "execute_result",
          "data": {
            "text/plain": [
              "Unidade da Federação\n",
              "35 São Paulo              3.951757\n",
              "31 Minas Gerais           1.683908\n",
              "41 Paraná                 1.122737\n",
              "43 Rio Grande do Sul      1.103291\n",
              "33 Rio de Janeiro         1.000000\n",
              "29 Bahia                  0.823286\n",
              "26 Pernambuco             0.871194\n",
              "42 Santa Catarina         0.723572\n",
              "23 Ceará                  0.430656\n",
              "52 Goiás                  0.468258\n",
              "15 Pará                   0.386059\n",
              "21 Maranhão               0.340706\n",
              "32 Espírito Santo         0.383847\n",
              "24 Rio Grande do Norte    0.273875\n",
              "25 Paraíba                0.216542\n",
              "53 Distrito Federal       0.310784\n",
              "50 Mato Grosso do Sul     0.174849\n",
              "22 Piauí                  0.251875\n",
              "27 Alagoas                0.182944\n",
              "51 Mato Grosso            0.182878\n",
              "13 Amazonas               0.186727\n",
              "28 Sergipe                0.046306\n",
              "17 Tocantins              0.062757\n",
              "11 Rondônia               0.103542\n",
              "12 Acre                   0.016268\n",
              "14 Roraima                0.038293\n",
              "16 Amapá                  0.030124\n",
              "Name: 2020/Jul, dtype: float64"
            ]
          },
          "metadata": {
            "tags": []
          },
          "execution_count": 313
        }
      ]
    },
    {
      "cell_type": "markdown",
      "metadata": {
        "id": "_wzTHHDbskOL"
      },
      "source": [
        "# DESAFIO 1"
      ]
    },
    {
      "cell_type": "markdown",
      "metadata": {
        "id": "82zhAyauspua"
      },
      "source": [
        "Buscar na documentação do Matplotlib como colocar um grid nos gráficos e adicionar nos gráficos de barra."
      ]
    },
    {
      "cell_type": "code",
      "metadata": {
        "id": "w7mEE8-m7EfG",
        "colab": {
          "base_uri": "https://localhost:8080/"
        },
        "outputId": "72ef2ed2-f742-462a-88e0-09891482463b"
      },
      "source": [
        "gastos_mes_mais_recente"
      ],
      "execution_count": 314,
      "outputs": [
        {
          "output_type": "execute_result",
          "data": {
            "text/plain": [
              "Unidade da Federação\n",
              "35 São Paulo              2.827096e+08\n",
              "31 Minas Gerais           1.204672e+08\n",
              "41 Paraná                 8.032085e+07\n",
              "43 Rio Grande do Sul      7.892970e+07\n",
              "33 Rio de Janeiro         7.154023e+07\n",
              "29 Bahia                  5.889810e+07\n",
              "26 Pernambuco             6.232544e+07\n",
              "42 Santa Catarina         5.176453e+07\n",
              "23 Ceará                  3.080922e+07\n",
              "52 Goiás                  3.349928e+07\n",
              "15 Pará                   2.761873e+07\n",
              "21 Maranhão               2.437421e+07\n",
              "32 Espírito Santo         2.746048e+07\n",
              "24 Rio Grande do Norte    1.959306e+07\n",
              "25 Paraíba                1.549147e+07\n",
              "53 Distrito Federal       2.223354e+07\n",
              "50 Mato Grosso do Sul     1.250872e+07\n",
              "22 Piauí                  1.801921e+07\n",
              "27 Alagoas                1.308785e+07\n",
              "51 Mato Grosso            1.308315e+07\n",
              "13 Amazonas               1.335851e+07\n",
              "28 Sergipe                3.312766e+06\n",
              "17 Tocantins              4.489666e+06\n",
              "11 Rondônia               7.407388e+06\n",
              "12 Acre                   1.163813e+06\n",
              "14 Roraima                2.739498e+06\n",
              "16 Amapá                  2.155083e+06\n",
              "Name: 2020/Jul, dtype: float64"
            ]
          },
          "metadata": {
            "tags": []
          },
          "execution_count": 314
        }
      ]
    },
    {
      "cell_type": "code",
      "metadata": {
        "colab": {
          "base_uri": "https://localhost:8080/",
          "height": 512
        },
        "id": "aK_QP-c400Ol",
        "outputId": "2c9d409e-53d4-4b42-b89b-c862e6fa5806"
      },
      "source": [
        "ax = gastos_mes_mais_recente.sort_values(ascending = False).plot(kind='bar',\n",
        "                                                            figsize = (12,6)) \n",
        "# Draw grid lines with red color and dashed style\n",
        "plt.grid(color='gray', linestyle='-.', linewidth=0.5)\n",
        "\n",
        "# Muda o formato dos números mostrados no eixo y \n",
        "ax.yaxis.set_major_formatter(ticker.StrMethodFormatter(\"{x:,.2f}\"))\n",
        "\n",
        "plt.title(\"Gastos hospitalares referentes a 2020/Jul por estado\")\n",
        "plt.show()"
      ],
      "execution_count": 315,
      "outputs": [
        {
          "output_type": "display_data",
          "data": {
            "image/png": "[encoded data removed]",
            "text/plain": [
              "<Figure size 864x432 with 1 Axes>"
            ]
          },
          "metadata": {
            "tags": [],
            "needs_background": "light"
          }
        }
      ]
    },
    {
      "cell_type": "markdown",
      "metadata": {
        "id": "2JGuPdTnstW7"
      },
      "source": [
        "# DESAFIO 2"
      ]
    },
    {
      "cell_type": "markdown",
      "metadata": {
        "id": "haOjavNtstW9"
      },
      "source": [
        "Fazer um gráfico e uma tabela do gasto dos outros estados em função do seu estado, ou qualquer outro de interesse."
      ]
    },
    {
      "cell_type": "code",
      "metadata": {
        "colab": {
          "base_uri": "https://localhost:8080/",
          "height": 512
        },
        "id": "whDNqXXt1dJP",
        "outputId": "45016ebf-517e-4e32-c495-56c4a011df01"
      },
      "source": [
        "# Data related to Pará\n",
        "gastos_related_2para = gastos_mes_mais_recente/gastos_mes_mais_recente.loc[\"15 Pará\"]\n",
        "\n",
        "gastos_related_2para.sort_values(ascending = False).plot(kind='bar',\n",
        "                                                            figsize = (12,6),\n",
        "                                                            grid = True) \n",
        "# Draw grid lines with red color and dashed style\n",
        "plt.grid(color='gray', linestyle='-.', linewidth=0.5)\n",
        "\n",
        "plt.title(\"Gastos hospitalares referentes a 2020/Jul relativos ao Estado do Pará\")\n",
        "plt.show()"
      ],
      "execution_count": 316,
      "outputs": [
        {
          "output_type": "display_data",
          "data": {
            "image/png": "[encoded data removed]",
            "text/plain": [
              "<Figure size 864x432 with 1 Axes>"
            ]
          },
          "metadata": {
            "tags": [],
            "needs_background": "light"
          }
        }
      ]
    },
    {
      "cell_type": "markdown",
      "metadata": {
        "id": "M4ANwn5Xt9gL"
      },
      "source": [
        "# DESAFIO 3"
      ]
    },
    {
      "cell_type": "markdown",
      "metadata": {
        "id": "taZtWNZVt9gM"
      },
      "source": [
        "Fazer o cálculo proporcional a população do seu estado e mais um a sua escolha."
      ]
    },
    {
      "cell_type": "markdown",
      "metadata": {
        "id": "TEqiqQLvxPn-"
      },
      "source": [
        "Selected 2 States (São Paulo and Pará), check the total hospital expenses during 2019 and make the proportion to the estimated resident population in that year"
      ]
    },
    {
      "cell_type": "code",
      "metadata": {
        "colab": {
          "base_uri": "https://localhost:8080/",
          "height": 377
        },
        "id": "o7coob5mlL_w",
        "outputId": "9b406355-9748-4e2d-9bf1-c777e0aacabd"
      },
      "source": [
        "URL = \"https://raw.githubusercontent.com/isabelapt/Bootcamp_Data_Science_Alura/main/data/tabela6579.csv\"\n",
        "populacao = pd.read_csv(URL, skiprows = 3, skipfooter=92, sep=\";\",                     \n",
        "                    thousands=\".\", decimal=\",\", engine='python')\n",
        "populacao = populacao.set_index('Brasil, Grande Região e Unidade da Federação')\n",
        "populacao.head(10)"
      ],
      "execution_count": 317,
      "outputs": [
        {
          "output_type": "execute_result",
          "data": {
            "text/html": [
              "<div>\n",
              "<style scoped>\n",
              "    .dataframe tbody tr th:only-of-type {\n",
              "        vertical-align: middle;\n",
              "    }\n",
              "\n",
              "    .dataframe tbody tr th {\n",
              "        vertical-align: top;\n",
              "    }\n",
              "\n",
              "    .dataframe thead th {\n",
              "        text-align: right;\n",
              "    }\n",
              "</style>\n",
              "<table border=\"1\" class=\"dataframe\">\n",
              "  <thead>\n",
              "    <tr style=\"text-align: right;\">\n",
              "      <th></th>\n",
              "      <th>2018</th>\n",
              "      <th>2019</th>\n",
              "      <th>2020</th>\n",
              "    </tr>\n",
              "    <tr>\n",
              "      <th>Brasil, Grande Região e Unidade da Federação</th>\n",
              "      <th></th>\n",
              "      <th></th>\n",
              "      <th></th>\n",
              "    </tr>\n",
              "  </thead>\n",
              "  <tbody>\n",
              "    <tr>\n",
              "      <th>Brasil</th>\n",
              "      <td>208494900</td>\n",
              "      <td>210147125</td>\n",
              "      <td>211755692</td>\n",
              "    </tr>\n",
              "    <tr>\n",
              "      <th>Norte</th>\n",
              "      <td>18182253</td>\n",
              "      <td>18430980</td>\n",
              "      <td>18672591</td>\n",
              "    </tr>\n",
              "    <tr>\n",
              "      <th>Nordeste</th>\n",
              "      <td>56760780</td>\n",
              "      <td>57071654</td>\n",
              "      <td>57374243</td>\n",
              "    </tr>\n",
              "    <tr>\n",
              "      <th>Sudeste</th>\n",
              "      <td>87711946</td>\n",
              "      <td>88371433</td>\n",
              "      <td>89012240</td>\n",
              "    </tr>\n",
              "    <tr>\n",
              "      <th>Sul</th>\n",
              "      <td>29754036</td>\n",
              "      <td>29975984</td>\n",
              "      <td>30192315</td>\n",
              "    </tr>\n",
              "    <tr>\n",
              "      <th>Centro-Oeste</th>\n",
              "      <td>16085885</td>\n",
              "      <td>16297074</td>\n",
              "      <td>16504303</td>\n",
              "    </tr>\n",
              "    <tr>\n",
              "      <th>Rondônia</th>\n",
              "      <td>1757589</td>\n",
              "      <td>1777225</td>\n",
              "      <td>1796460</td>\n",
              "    </tr>\n",
              "    <tr>\n",
              "      <th>Acre</th>\n",
              "      <td>869265</td>\n",
              "      <td>881935</td>\n",
              "      <td>894470</td>\n",
              "    </tr>\n",
              "    <tr>\n",
              "      <th>Amazonas</th>\n",
              "      <td>4080611</td>\n",
              "      <td>4144597</td>\n",
              "      <td>4207714</td>\n",
              "    </tr>\n",
              "    <tr>\n",
              "      <th>Roraima</th>\n",
              "      <td>576568</td>\n",
              "      <td>605761</td>\n",
              "      <td>631181</td>\n",
              "    </tr>\n",
              "  </tbody>\n",
              "</table>\n",
              "</div>"
            ],
            "text/plain": [
              "                                                   2018       2019       2020\n",
              "Brasil, Grande Região e Unidade da Federação                                 \n",
              "Brasil                                        208494900  210147125  211755692\n",
              "Norte                                          18182253   18430980   18672591\n",
              "Nordeste                                       56760780   57071654   57374243\n",
              "Sudeste                                        87711946   88371433   89012240\n",
              "Sul                                            29754036   29975984   30192315\n",
              "Centro-Oeste                                   16085885   16297074   16504303\n",
              "Rondônia                                        1757589    1777225    1796460\n",
              "Acre                                             869265     881935     894470\n",
              "Amazonas                                        4080611    4144597    4207714\n",
              "Roraima                                          576568     605761     631181"
            ]
          },
          "metadata": {
            "tags": []
          },
          "execution_count": 317
        }
      ]
    },
    {
      "cell_type": "code",
      "metadata": {
        "id": "24hkWms6oHlQ"
      },
      "source": [
        "# Find total hospital expenses in 2019\n",
        "gastos_meses_2019 = ordenado_por_total.loc[:,\"2019/Jan\":\"2019/Dez\"]\n",
        "gastos_total_2019 = gastos_meses_2019.sum(axis=1)"
      ],
      "execution_count": 318,
      "outputs": []
    },
    {
      "cell_type": "code",
      "metadata": {
        "colab": {
          "base_uri": "https://localhost:8080/",
          "height": 427
        },
        "id": "R7idMA3DvbC2",
        "outputId": "9580f651-e25f-4049-c6b2-646b17890161"
      },
      "source": [
        "gastos_pa_pessoa = gastos_meses_2019.loc[\"15 Pará\"]/populacao.loc[\"Pará\"][\"2019\"]\n",
        "gastos_sp_pessoa = gastos_meses_2019.loc[\"35 São Paulo\"]/populacao.loc[\"São Paulo\"][\"2019\"]\n",
        "\n",
        "plotdata = pd.DataFrame({\n",
        "    \"Pará\": gastos_pa_pessoa,\n",
        "    \"São Paulo\": gastos_sp_pessoa}, \n",
        "    index= gastos_pa_pessoa.index)\n",
        "\n",
        "ax = plotdata.plot(kind=\"bar\", figsize = (12,6))\n",
        "\n",
        "# Create a outter box to put the legend\n",
        "ax.legend(bbox_to_anchor = (1,1), loc = \"upper left\")\n",
        "\n",
        "# Draw grid lines with red color and dashed style\n",
        "plt.grid(color='gray', linestyle='-.', linewidth=0.5)\n",
        "\n",
        "plt.title(\"Total de gastos hospitalares referentes aos meses de 2019 proporcional à população\")\n",
        "plt.show()"
      ],
      "execution_count": 319,
      "outputs": [
        {
          "output_type": "display_data",
          "data": {
            "image/png": "[encoded data removed]",
            "text/plain": [
              "<Figure size 864x432 with 1 Axes>"
            ]
          },
          "metadata": {
            "tags": [],
            "needs_background": "light"
          }
        }
      ]
    },
    {
      "cell_type": "markdown",
      "metadata": {
        "id": "KuRNlnh4P_vt"
      },
      "source": [
        "The average expenses of Para to each person is 4 reais along 2019's months. The average expenses of SP to each person is between 6.25 reais along 2019's months. "
      ]
    },
    {
      "cell_type": "code",
      "metadata": {
        "colab": {
          "base_uri": "https://localhost:8080/",
          "height": 427
        },
        "id": "lGUSOktRGGwz",
        "outputId": "f585fc72-94b3-4196-8b6b-cfb3ac34cedb"
      },
      "source": [
        "gastos_pa_pessoa2 = gastos_total_2019.loc[\"15 Pará\"]/populacao.loc[\"Pará\"][\"2019\"]\n",
        "gastos_sp_pessoa2 = gastos_total_2019.loc[\"35 São Paulo\"]/populacao.loc[\"São Paulo\"][\"2019\"]\n",
        "\n",
        "plotdata = pd.DataFrame({\"Gastos por pessoa em 2019\":[gastos_pa_pessoa2,gastos_sp_pessoa2],\n",
        "                        \"UF\":[\"Pará\",\"São Paulo\"]},\n",
        "                        index =[\"Pará\",\"São Paulo\"])\n",
        "\n",
        "ax = plotdata.plot(kind=\"bar\", figsize = (12,6))\n",
        "\n",
        "# Create a outter box to put the legend\n",
        "ax.legend(bbox_to_anchor = (1,1), loc = \"upper left\")\n",
        "\n",
        "# Draw grid lines with red color and dashed style\n",
        "plt.grid(color='gray', linestyle='-.', linewidth=0.5)\n",
        "\n",
        "plt.title(\"Total de gastos hospitalares referentes aos meses de 2019 proporcional à população\")\n",
        "plt.show()"
      ],
      "execution_count": 320,
      "outputs": [
        {
          "output_type": "display_data",
          "data": {
            "image/png": "[encoded data removed]",
            "text/plain": [
              "<Figure size 864x432 with 1 Axes>"
            ]
          },
          "metadata": {
            "tags": [],
            "needs_background": "light"
          }
        }
      ]
    },
    {
      "cell_type": "markdown",
      "metadata": {
        "id": "4fgSiPX2t9gN"
      },
      "source": [
        "# DESAFIO 4"
      ]
    },
    {
      "cell_type": "markdown",
      "metadata": {
        "id": "keE_HYAxt9gO"
      },
      "source": [
        "Faça uma análise dos dados analisados, levante hipóteses e compartilhe com a gente no Discord."
      ]
    },
    {
      "cell_type": "code",
      "metadata": {
        "colab": {
          "base_uri": "https://localhost:8080/",
          "height": 393
        },
        "id": "EmWSTlYsyaN9",
        "outputId": "e1d7fe31-de8b-44ad-ad83-a62a5e3a7cc7"
      },
      "source": [
        "dict_regiões = {'1' : 'Norte',\n",
        "                '2' : 'Nordeste',\n",
        "                '3' : 'Sudeste',\n",
        "                '4' : 'Sul',\n",
        "                '5' : 'Centro-Oeste'}\n",
        "regiao = [dict_regiões[id[0]] for id in ordenado_por_total.index]\n",
        "\n",
        "# Insert the data as the last column\n",
        "ordenado_por_total[\"Região\"] = regiao\n",
        "\n",
        "# Move Região Column to the be the first one\n",
        "col = ordenado_por_total.pop(\"Região\")\n",
        "ordenado_por_total.insert(0,col.name, col)\n",
        "\n",
        "ordenado_por_total.head()"
      ],
      "execution_count": 321,
      "outputs": [
        {
          "output_type": "execute_result",
          "data": {
            "text/html": [
              "<div>\n",
              "<style scoped>\n",
              "    .dataframe tbody tr th:only-of-type {\n",
              "        vertical-align: middle;\n",
              "    }\n",
              "\n",
              "    .dataframe tbody tr th {\n",
              "        vertical-align: top;\n",
              "    }\n",
              "\n",
              "    .dataframe thead th {\n",
              "        text-align: right;\n",
              "    }\n",
              "</style>\n",
              "<table border=\"1\" class=\"dataframe\">\n",
              "  <thead>\n",
              "    <tr style=\"text-align: right;\">\n",
              "      <th></th>\n",
              "      <th>Região</th>\n",
              "      <th>2007/Ago</th>\n",
              "      <th>2007/Set</th>\n",
              "      <th>2007/Out</th>\n",
              "      <th>2007/Nov</th>\n",
              "      <th>2007/Dez</th>\n",
              "      <th>2008/Jan</th>\n",
              "      <th>2008/Fev</th>\n",
              "      <th>2008/Mar</th>\n",
              "      <th>2008/Abr</th>\n",
              "      <th>2008/Mai</th>\n",
              "      <th>2008/Jun</th>\n",
              "      <th>2008/Jul</th>\n",
              "      <th>2008/Ago</th>\n",
              "      <th>2008/Set</th>\n",
              "      <th>2008/Out</th>\n",
              "      <th>2008/Nov</th>\n",
              "      <th>2008/Dez</th>\n",
              "      <th>2009/Jan</th>\n",
              "      <th>2009/Fev</th>\n",
              "      <th>2009/Mar</th>\n",
              "      <th>2009/Abr</th>\n",
              "      <th>2009/Mai</th>\n",
              "      <th>2009/Jun</th>\n",
              "      <th>2009/Jul</th>\n",
              "      <th>2009/Ago</th>\n",
              "      <th>2009/Set</th>\n",
              "      <th>2009/Out</th>\n",
              "      <th>2009/Nov</th>\n",
              "      <th>2009/Dez</th>\n",
              "      <th>2010/Jan</th>\n",
              "      <th>2010/Fev</th>\n",
              "      <th>2010/Mar</th>\n",
              "      <th>2010/Abr</th>\n",
              "      <th>2010/Mai</th>\n",
              "      <th>2010/Jun</th>\n",
              "      <th>2010/Jul</th>\n",
              "      <th>2010/Ago</th>\n",
              "      <th>2010/Set</th>\n",
              "      <th>2010/Out</th>\n",
              "      <th>...</th>\n",
              "      <th>2017/Abr</th>\n",
              "      <th>2017/Mai</th>\n",
              "      <th>2017/Jun</th>\n",
              "      <th>2017/Jul</th>\n",
              "      <th>2017/Ago</th>\n",
              "      <th>2017/Set</th>\n",
              "      <th>2017/Out</th>\n",
              "      <th>2017/Nov</th>\n",
              "      <th>2017/Dez</th>\n",
              "      <th>2018/Jan</th>\n",
              "      <th>2018/Fev</th>\n",
              "      <th>2018/Mar</th>\n",
              "      <th>2018/Abr</th>\n",
              "      <th>2018/Mai</th>\n",
              "      <th>2018/Jun</th>\n",
              "      <th>2018/Jul</th>\n",
              "      <th>2018/Ago</th>\n",
              "      <th>2018/Set</th>\n",
              "      <th>2018/Out</th>\n",
              "      <th>2018/Nov</th>\n",
              "      <th>2018/Dez</th>\n",
              "      <th>2019/Jan</th>\n",
              "      <th>2019/Fev</th>\n",
              "      <th>2019/Mar</th>\n",
              "      <th>2019/Abr</th>\n",
              "      <th>2019/Mai</th>\n",
              "      <th>2019/Jun</th>\n",
              "      <th>2019/Jul</th>\n",
              "      <th>2019/Ago</th>\n",
              "      <th>2019/Set</th>\n",
              "      <th>2019/Out</th>\n",
              "      <th>2019/Nov</th>\n",
              "      <th>2019/Dez</th>\n",
              "      <th>2020/Jan</th>\n",
              "      <th>2020/Fev</th>\n",
              "      <th>2020/Mar</th>\n",
              "      <th>2020/Abr</th>\n",
              "      <th>2020/Mai</th>\n",
              "      <th>2020/Jun</th>\n",
              "      <th>2020/Jul</th>\n",
              "    </tr>\n",
              "    <tr>\n",
              "      <th>Unidade da Federação</th>\n",
              "      <th></th>\n",
              "      <th></th>\n",
              "      <th></th>\n",
              "      <th></th>\n",
              "      <th></th>\n",
              "      <th></th>\n",
              "      <th></th>\n",
              "      <th></th>\n",
              "      <th></th>\n",
              "      <th></th>\n",
              "      <th></th>\n",
              "      <th></th>\n",
              "      <th></th>\n",
              "      <th></th>\n",
              "      <th></th>\n",
              "      <th></th>\n",
              "      <th></th>\n",
              "      <th></th>\n",
              "      <th></th>\n",
              "      <th></th>\n",
              "      <th></th>\n",
              "      <th></th>\n",
              "      <th></th>\n",
              "      <th></th>\n",
              "      <th></th>\n",
              "      <th></th>\n",
              "      <th></th>\n",
              "      <th></th>\n",
              "      <th></th>\n",
              "      <th></th>\n",
              "      <th></th>\n",
              "      <th></th>\n",
              "      <th></th>\n",
              "      <th></th>\n",
              "      <th></th>\n",
              "      <th></th>\n",
              "      <th></th>\n",
              "      <th></th>\n",
              "      <th></th>\n",
              "      <th></th>\n",
              "      <th></th>\n",
              "      <th></th>\n",
              "      <th></th>\n",
              "      <th></th>\n",
              "      <th></th>\n",
              "      <th></th>\n",
              "      <th></th>\n",
              "      <th></th>\n",
              "      <th></th>\n",
              "      <th></th>\n",
              "      <th></th>\n",
              "      <th></th>\n",
              "      <th></th>\n",
              "      <th></th>\n",
              "      <th></th>\n",
              "      <th></th>\n",
              "      <th></th>\n",
              "      <th></th>\n",
              "      <th></th>\n",
              "      <th></th>\n",
              "      <th></th>\n",
              "      <th></th>\n",
              "      <th></th>\n",
              "      <th></th>\n",
              "      <th></th>\n",
              "      <th></th>\n",
              "      <th></th>\n",
              "      <th></th>\n",
              "      <th></th>\n",
              "      <th></th>\n",
              "      <th></th>\n",
              "      <th></th>\n",
              "      <th></th>\n",
              "      <th></th>\n",
              "      <th></th>\n",
              "      <th></th>\n",
              "      <th></th>\n",
              "      <th></th>\n",
              "      <th></th>\n",
              "      <th></th>\n",
              "      <th></th>\n",
              "    </tr>\n",
              "  </thead>\n",
              "  <tbody>\n",
              "    <tr>\n",
              "      <th>35 São Paulo</th>\n",
              "      <td>Sudeste</td>\n",
              "      <td>1665349.90</td>\n",
              "      <td>4434168.64</td>\n",
              "      <td>14577395.84</td>\n",
              "      <td>35032259.98</td>\n",
              "      <td>76668547.41</td>\n",
              "      <td>1.023565e+09</td>\n",
              "      <td>1.728349e+08</td>\n",
              "      <td>1.704818e+08</td>\n",
              "      <td>1.702783e+08</td>\n",
              "      <td>1.724022e+08</td>\n",
              "      <td>1.754166e+08</td>\n",
              "      <td>1.795250e+08</td>\n",
              "      <td>1.798981e+08</td>\n",
              "      <td>1.800822e+08</td>\n",
              "      <td>1.916852e+08</td>\n",
              "      <td>1.905397e+08</td>\n",
              "      <td>1.770864e+08</td>\n",
              "      <td>1.923216e+08</td>\n",
              "      <td>1.785964e+08</td>\n",
              "      <td>2.169516e+08</td>\n",
              "      <td>2.150530e+08</td>\n",
              "      <td>2.128902e+08</td>\n",
              "      <td>2.126709e+08</td>\n",
              "      <td>2.140412e+08</td>\n",
              "      <td>2.152125e+08</td>\n",
              "      <td>2.141354e+08</td>\n",
              "      <td>2.160566e+08</td>\n",
              "      <td>2.089739e+08</td>\n",
              "      <td>1.921271e+08</td>\n",
              "      <td>2.134679e+08</td>\n",
              "      <td>1.957848e+08</td>\n",
              "      <td>2.393239e+08</td>\n",
              "      <td>2.211730e+08</td>\n",
              "      <td>2.317775e+08</td>\n",
              "      <td>2.239338e+08</td>\n",
              "      <td>2.240679e+08</td>\n",
              "      <td>2.480101e+08</td>\n",
              "      <td>2.240530e+08</td>\n",
              "      <td>2.389355e+08</td>\n",
              "      <td>...</td>\n",
              "      <td>2.634718e+08</td>\n",
              "      <td>2.921134e+08</td>\n",
              "      <td>2.743011e+08</td>\n",
              "      <td>2.835346e+08</td>\n",
              "      <td>3.005937e+08</td>\n",
              "      <td>2.672972e+08</td>\n",
              "      <td>2.871148e+08</td>\n",
              "      <td>2.671132e+08</td>\n",
              "      <td>2.594517e+08</td>\n",
              "      <td>2.794976e+08</td>\n",
              "      <td>2.540046e+08</td>\n",
              "      <td>2.852706e+08</td>\n",
              "      <td>2.861920e+08</td>\n",
              "      <td>2.914409e+08</td>\n",
              "      <td>2.789260e+08</td>\n",
              "      <td>2.858519e+08</td>\n",
              "      <td>2.954193e+08</td>\n",
              "      <td>2.775762e+08</td>\n",
              "      <td>3.014549e+08</td>\n",
              "      <td>2.781143e+08</td>\n",
              "      <td>2.662398e+08</td>\n",
              "      <td>2.910814e+08</td>\n",
              "      <td>2.676625e+08</td>\n",
              "      <td>2.855763e+08</td>\n",
              "      <td>2.925848e+08</td>\n",
              "      <td>3.089256e+08</td>\n",
              "      <td>2.814051e+08</td>\n",
              "      <td>3.066340e+08</td>\n",
              "      <td>3.023673e+08</td>\n",
              "      <td>2.936857e+08</td>\n",
              "      <td>3.033825e+08</td>\n",
              "      <td>2.823918e+08</td>\n",
              "      <td>2.726977e+08</td>\n",
              "      <td>3.019912e+08</td>\n",
              "      <td>2.713568e+08</td>\n",
              "      <td>2.766063e+08</td>\n",
              "      <td>2.516964e+08</td>\n",
              "      <td>3.028577e+08</td>\n",
              "      <td>2.990609e+08</td>\n",
              "      <td>2.827096e+08</td>\n",
              "    </tr>\n",
              "    <tr>\n",
              "      <th>31 Minas Gerais</th>\n",
              "      <td>Sudeste</td>\n",
              "      <td>971394.37</td>\n",
              "      <td>2861781.50</td>\n",
              "      <td>10018011.35</td>\n",
              "      <td>21730281.63</td>\n",
              "      <td>43429517.54</td>\n",
              "      <td>2.059127e+08</td>\n",
              "      <td>7.030109e+07</td>\n",
              "      <td>7.911901e+07</td>\n",
              "      <td>7.904632e+07</td>\n",
              "      <td>7.926807e+07</td>\n",
              "      <td>7.960865e+07</td>\n",
              "      <td>8.220022e+07</td>\n",
              "      <td>8.037412e+07</td>\n",
              "      <td>8.240015e+07</td>\n",
              "      <td>8.861348e+07</td>\n",
              "      <td>8.448700e+07</td>\n",
              "      <td>8.892863e+07</td>\n",
              "      <td>9.901816e+07</td>\n",
              "      <td>8.367512e+07</td>\n",
              "      <td>1.002407e+08</td>\n",
              "      <td>9.183133e+07</td>\n",
              "      <td>9.728970e+07</td>\n",
              "      <td>9.572340e+07</td>\n",
              "      <td>1.000500e+08</td>\n",
              "      <td>9.896806e+07</td>\n",
              "      <td>9.820212e+07</td>\n",
              "      <td>9.696239e+07</td>\n",
              "      <td>9.476764e+07</td>\n",
              "      <td>9.241277e+07</td>\n",
              "      <td>9.580656e+07</td>\n",
              "      <td>9.076489e+07</td>\n",
              "      <td>1.073899e+08</td>\n",
              "      <td>1.008298e+08</td>\n",
              "      <td>1.054856e+08</td>\n",
              "      <td>9.966612e+07</td>\n",
              "      <td>1.033570e+08</td>\n",
              "      <td>1.078443e+08</td>\n",
              "      <td>1.043411e+08</td>\n",
              "      <td>1.005254e+08</td>\n",
              "      <td>...</td>\n",
              "      <td>1.367151e+08</td>\n",
              "      <td>1.534121e+08</td>\n",
              "      <td>1.442914e+08</td>\n",
              "      <td>1.475335e+08</td>\n",
              "      <td>1.560556e+08</td>\n",
              "      <td>1.422851e+08</td>\n",
              "      <td>1.483061e+08</td>\n",
              "      <td>1.423239e+08</td>\n",
              "      <td>1.383412e+08</td>\n",
              "      <td>1.465016e+08</td>\n",
              "      <td>1.307021e+08</td>\n",
              "      <td>1.514962e+08</td>\n",
              "      <td>1.506876e+08</td>\n",
              "      <td>1.535893e+08</td>\n",
              "      <td>1.502518e+08</td>\n",
              "      <td>1.566340e+08</td>\n",
              "      <td>1.604200e+08</td>\n",
              "      <td>1.459410e+08</td>\n",
              "      <td>1.572476e+08</td>\n",
              "      <td>1.481728e+08</td>\n",
              "      <td>1.453872e+08</td>\n",
              "      <td>1.531773e+08</td>\n",
              "      <td>1.426692e+08</td>\n",
              "      <td>1.519436e+08</td>\n",
              "      <td>1.579226e+08</td>\n",
              "      <td>1.635915e+08</td>\n",
              "      <td>1.541148e+08</td>\n",
              "      <td>1.667357e+08</td>\n",
              "      <td>1.617078e+08</td>\n",
              "      <td>1.574197e+08</td>\n",
              "      <td>1.661338e+08</td>\n",
              "      <td>1.521067e+08</td>\n",
              "      <td>1.523986e+08</td>\n",
              "      <td>1.580979e+08</td>\n",
              "      <td>1.413232e+08</td>\n",
              "      <td>1.470786e+08</td>\n",
              "      <td>1.263306e+08</td>\n",
              "      <td>1.368673e+08</td>\n",
              "      <td>1.359776e+08</td>\n",
              "      <td>1.204672e+08</td>\n",
              "    </tr>\n",
              "    <tr>\n",
              "      <th>41 Paraná</th>\n",
              "      <td>Sul</td>\n",
              "      <td>554800.22</td>\n",
              "      <td>1431708.01</td>\n",
              "      <td>4630402.44</td>\n",
              "      <td>11120030.79</td>\n",
              "      <td>28790722.87</td>\n",
              "      <td>5.808133e+07</td>\n",
              "      <td>4.885505e+07</td>\n",
              "      <td>5.561179e+07</td>\n",
              "      <td>5.611514e+07</td>\n",
              "      <td>5.557483e+07</td>\n",
              "      <td>5.609475e+07</td>\n",
              "      <td>5.980240e+07</td>\n",
              "      <td>5.669900e+07</td>\n",
              "      <td>5.809199e+07</td>\n",
              "      <td>6.136594e+07</td>\n",
              "      <td>5.966721e+07</td>\n",
              "      <td>5.781620e+07</td>\n",
              "      <td>6.038159e+07</td>\n",
              "      <td>5.723910e+07</td>\n",
              "      <td>6.907049e+07</td>\n",
              "      <td>6.405468e+07</td>\n",
              "      <td>6.868554e+07</td>\n",
              "      <td>6.793123e+07</td>\n",
              "      <td>7.095876e+07</td>\n",
              "      <td>6.922578e+07</td>\n",
              "      <td>6.784997e+07</td>\n",
              "      <td>6.855821e+07</td>\n",
              "      <td>6.715850e+07</td>\n",
              "      <td>6.309427e+07</td>\n",
              "      <td>6.690264e+07</td>\n",
              "      <td>6.450113e+07</td>\n",
              "      <td>7.713887e+07</td>\n",
              "      <td>7.075540e+07</td>\n",
              "      <td>7.345676e+07</td>\n",
              "      <td>7.183902e+07</td>\n",
              "      <td>7.301383e+07</td>\n",
              "      <td>7.615101e+07</td>\n",
              "      <td>7.424096e+07</td>\n",
              "      <td>7.304239e+07</td>\n",
              "      <td>...</td>\n",
              "      <td>1.060277e+08</td>\n",
              "      <td>1.205353e+08</td>\n",
              "      <td>1.117253e+08</td>\n",
              "      <td>1.185902e+08</td>\n",
              "      <td>1.221228e+08</td>\n",
              "      <td>1.106561e+08</td>\n",
              "      <td>1.175677e+08</td>\n",
              "      <td>1.124575e+08</td>\n",
              "      <td>1.055581e+08</td>\n",
              "      <td>1.161332e+08</td>\n",
              "      <td>1.070760e+08</td>\n",
              "      <td>1.223314e+08</td>\n",
              "      <td>1.247313e+08</td>\n",
              "      <td>1.270739e+08</td>\n",
              "      <td>1.226169e+08</td>\n",
              "      <td>1.279919e+08</td>\n",
              "      <td>1.312572e+08</td>\n",
              "      <td>1.206474e+08</td>\n",
              "      <td>1.295302e+08</td>\n",
              "      <td>1.218107e+08</td>\n",
              "      <td>1.129846e+08</td>\n",
              "      <td>1.241592e+08</td>\n",
              "      <td>1.177155e+08</td>\n",
              "      <td>1.239074e+08</td>\n",
              "      <td>1.274470e+08</td>\n",
              "      <td>1.325766e+08</td>\n",
              "      <td>1.248583e+08</td>\n",
              "      <td>1.346213e+08</td>\n",
              "      <td>1.271741e+08</td>\n",
              "      <td>1.261727e+08</td>\n",
              "      <td>1.338480e+08</td>\n",
              "      <td>1.262094e+08</td>\n",
              "      <td>1.135453e+08</td>\n",
              "      <td>1.222688e+08</td>\n",
              "      <td>1.160616e+08</td>\n",
              "      <td>1.144770e+08</td>\n",
              "      <td>9.672711e+07</td>\n",
              "      <td>1.061037e+08</td>\n",
              "      <td>9.290146e+07</td>\n",
              "      <td>8.032085e+07</td>\n",
              "    </tr>\n",
              "    <tr>\n",
              "      <th>43 Rio Grande do Sul</th>\n",
              "      <td>Sul</td>\n",
              "      <td>1049252.33</td>\n",
              "      <td>3182913.14</td>\n",
              "      <td>8571312.11</td>\n",
              "      <td>16592432.80</td>\n",
              "      <td>30134255.70</td>\n",
              "      <td>5.106461e+07</td>\n",
              "      <td>4.589770e+07</td>\n",
              "      <td>5.292870e+07</td>\n",
              "      <td>5.197242e+07</td>\n",
              "      <td>5.167935e+07</td>\n",
              "      <td>5.375967e+07</td>\n",
              "      <td>5.639165e+07</td>\n",
              "      <td>5.623376e+07</td>\n",
              "      <td>5.791017e+07</td>\n",
              "      <td>5.959212e+07</td>\n",
              "      <td>5.756574e+07</td>\n",
              "      <td>5.569692e+07</td>\n",
              "      <td>6.152238e+07</td>\n",
              "      <td>5.210164e+07</td>\n",
              "      <td>6.511197e+07</td>\n",
              "      <td>6.159083e+07</td>\n",
              "      <td>6.440229e+07</td>\n",
              "      <td>6.309064e+07</td>\n",
              "      <td>6.913700e+07</td>\n",
              "      <td>6.606263e+07</td>\n",
              "      <td>6.522201e+07</td>\n",
              "      <td>6.756941e+07</td>\n",
              "      <td>6.418912e+07</td>\n",
              "      <td>6.224428e+07</td>\n",
              "      <td>6.548839e+07</td>\n",
              "      <td>5.696453e+07</td>\n",
              "      <td>6.993358e+07</td>\n",
              "      <td>6.648684e+07</td>\n",
              "      <td>6.910837e+07</td>\n",
              "      <td>6.757077e+07</td>\n",
              "      <td>7.007475e+07</td>\n",
              "      <td>7.088401e+07</td>\n",
              "      <td>6.507979e+07</td>\n",
              "      <td>6.655602e+07</td>\n",
              "      <td>...</td>\n",
              "      <td>8.318838e+07</td>\n",
              "      <td>9.514995e+07</td>\n",
              "      <td>9.317241e+07</td>\n",
              "      <td>9.441526e+07</td>\n",
              "      <td>9.422816e+07</td>\n",
              "      <td>8.642477e+07</td>\n",
              "      <td>9.159818e+07</td>\n",
              "      <td>8.579370e+07</td>\n",
              "      <td>8.273757e+07</td>\n",
              "      <td>9.182567e+07</td>\n",
              "      <td>7.758201e+07</td>\n",
              "      <td>9.107833e+07</td>\n",
              "      <td>9.192677e+07</td>\n",
              "      <td>9.167813e+07</td>\n",
              "      <td>9.098989e+07</td>\n",
              "      <td>9.486101e+07</td>\n",
              "      <td>9.679964e+07</td>\n",
              "      <td>8.734427e+07</td>\n",
              "      <td>9.737110e+07</td>\n",
              "      <td>9.019077e+07</td>\n",
              "      <td>8.174888e+07</td>\n",
              "      <td>9.246710e+07</td>\n",
              "      <td>8.530100e+07</td>\n",
              "      <td>9.162434e+07</td>\n",
              "      <td>9.278795e+07</td>\n",
              "      <td>9.911764e+07</td>\n",
              "      <td>9.584051e+07</td>\n",
              "      <td>1.030282e+08</td>\n",
              "      <td>9.854611e+07</td>\n",
              "      <td>9.436919e+07</td>\n",
              "      <td>9.691390e+07</td>\n",
              "      <td>9.097181e+07</td>\n",
              "      <td>8.872087e+07</td>\n",
              "      <td>9.747436e+07</td>\n",
              "      <td>8.545165e+07</td>\n",
              "      <td>8.465140e+07</td>\n",
              "      <td>7.629460e+07</td>\n",
              "      <td>8.607611e+07</td>\n",
              "      <td>8.901948e+07</td>\n",
              "      <td>7.892970e+07</td>\n",
              "    </tr>\n",
              "    <tr>\n",
              "      <th>33 Rio de Janeiro</th>\n",
              "      <td>Sudeste</td>\n",
              "      <td>469469.34</td>\n",
              "      <td>921646.57</td>\n",
              "      <td>2994664.57</td>\n",
              "      <td>7250528.08</td>\n",
              "      <td>13627123.27</td>\n",
              "      <td>2.505650e+08</td>\n",
              "      <td>4.412259e+07</td>\n",
              "      <td>4.289267e+07</td>\n",
              "      <td>4.529596e+07</td>\n",
              "      <td>4.395135e+07</td>\n",
              "      <td>4.410293e+07</td>\n",
              "      <td>4.434852e+07</td>\n",
              "      <td>4.248794e+07</td>\n",
              "      <td>4.306646e+07</td>\n",
              "      <td>4.455331e+07</td>\n",
              "      <td>4.135151e+07</td>\n",
              "      <td>4.300979e+07</td>\n",
              "      <td>6.087040e+07</td>\n",
              "      <td>4.065784e+07</td>\n",
              "      <td>5.274937e+07</td>\n",
              "      <td>4.889560e+07</td>\n",
              "      <td>5.116713e+07</td>\n",
              "      <td>5.723141e+07</td>\n",
              "      <td>5.348566e+07</td>\n",
              "      <td>5.122066e+07</td>\n",
              "      <td>4.848129e+07</td>\n",
              "      <td>4.866800e+07</td>\n",
              "      <td>4.968521e+07</td>\n",
              "      <td>4.440786e+07</td>\n",
              "      <td>5.599371e+07</td>\n",
              "      <td>4.482045e+07</td>\n",
              "      <td>5.445799e+07</td>\n",
              "      <td>7.811810e+07</td>\n",
              "      <td>5.600780e+07</td>\n",
              "      <td>5.143583e+07</td>\n",
              "      <td>5.386128e+07</td>\n",
              "      <td>5.786729e+07</td>\n",
              "      <td>5.373602e+07</td>\n",
              "      <td>5.237116e+07</td>\n",
              "      <td>...</td>\n",
              "      <td>6.452451e+07</td>\n",
              "      <td>7.431706e+07</td>\n",
              "      <td>6.985403e+07</td>\n",
              "      <td>7.315485e+07</td>\n",
              "      <td>7.454192e+07</td>\n",
              "      <td>6.872945e+07</td>\n",
              "      <td>7.308490e+07</td>\n",
              "      <td>6.926088e+07</td>\n",
              "      <td>6.731662e+07</td>\n",
              "      <td>7.233988e+07</td>\n",
              "      <td>6.501705e+07</td>\n",
              "      <td>7.438664e+07</td>\n",
              "      <td>7.451810e+07</td>\n",
              "      <td>7.925978e+07</td>\n",
              "      <td>7.590771e+07</td>\n",
              "      <td>7.748669e+07</td>\n",
              "      <td>7.878407e+07</td>\n",
              "      <td>7.283765e+07</td>\n",
              "      <td>7.913817e+07</td>\n",
              "      <td>7.394690e+07</td>\n",
              "      <td>7.068819e+07</td>\n",
              "      <td>7.946838e+07</td>\n",
              "      <td>7.379501e+07</td>\n",
              "      <td>7.491940e+07</td>\n",
              "      <td>7.666697e+07</td>\n",
              "      <td>8.244073e+07</td>\n",
              "      <td>7.819065e+07</td>\n",
              "      <td>8.798449e+07</td>\n",
              "      <td>8.331160e+07</td>\n",
              "      <td>8.114669e+07</td>\n",
              "      <td>8.224773e+07</td>\n",
              "      <td>7.462048e+07</td>\n",
              "      <td>7.489586e+07</td>\n",
              "      <td>7.970566e+07</td>\n",
              "      <td>7.241281e+07</td>\n",
              "      <td>7.359450e+07</td>\n",
              "      <td>6.816077e+07</td>\n",
              "      <td>8.628103e+07</td>\n",
              "      <td>7.760493e+07</td>\n",
              "      <td>7.154023e+07</td>\n",
              "    </tr>\n",
              "  </tbody>\n",
              "</table>\n",
              "<p>5 rows × 157 columns</p>\n",
              "</div>"
            ],
            "text/plain": [
              "                       Região    2007/Ago  ...      2020/Jun      2020/Jul\n",
              "Unidade da Federação                       ...                            \n",
              "35 São Paulo          Sudeste  1665349.90  ...  2.990609e+08  2.827096e+08\n",
              "31 Minas Gerais       Sudeste   971394.37  ...  1.359776e+08  1.204672e+08\n",
              "41 Paraná                 Sul   554800.22  ...  9.290146e+07  8.032085e+07\n",
              "43 Rio Grande do Sul      Sul  1049252.33  ...  8.901948e+07  7.892970e+07\n",
              "33 Rio de Janeiro     Sudeste   469469.34  ...  7.760493e+07  7.154023e+07\n",
              "\n",
              "[5 rows x 157 columns]"
            ]
          },
          "metadata": {
            "tags": []
          },
          "execution_count": 321
        }
      ]
    },
    {
      "cell_type": "code",
      "metadata": {
        "colab": {
          "base_uri": "https://localhost:8080/"
        },
        "id": "fDQ_15oN179U",
        "outputId": "0b408abb-2ac6-490e-cdc7-6799d67ffe77"
      },
      "source": [
        "# Grouping and Summing the total expenses by region\n",
        "grouped_regiao = ordenado_por_total.groupby('Região').sum()\n",
        "\n",
        "# Summing expenses just for 2019 months\n",
        "grouped_regiao_2019 = grouped_regiao.loc[:,\"2019/Jan\":\"2019/Dez\"].sum(axis=1)\n",
        "grouped_regiao_2019"
      ],
      "execution_count": 322,
      "outputs": [
        {
          "output_type": "execute_result",
          "data": {
            "text/plain": [
              "Região\n",
              "Centro-Oeste    1.080392e+09\n",
              "Nordeste        3.713300e+09\n",
              "Norte           8.858225e+08\n",
              "Sudeste         6.641653e+09\n",
              "Sul             3.398440e+09\n",
              "dtype: float64"
            ]
          },
          "metadata": {
            "tags": []
          },
          "execution_count": 322
        }
      ]
    },
    {
      "cell_type": "code",
      "metadata": {
        "colab": {
          "base_uri": "https://localhost:8080/",
          "height": 460
        },
        "id": "3bW3I91Mju6A",
        "outputId": "4bf4aefb-6882-41da-bb28-a15f35a1e975"
      },
      "source": [
        "grouped_regiao_sorted = grouped_regiao_2019.sort_values(ascending=False) \n",
        "\n",
        "ax = grouped_regiao_sorted.plot(figsize=(9,6), kind ='bar')\n",
        "\n",
        "# Draw grid lines with red color and dashed style\n",
        "plt.grid(color='gray', linestyle='-.', linewidth=0.5)\n",
        "\n",
        "# Muda o formato dos números mostrados no eixo y \n",
        "ax.yaxis.set_major_formatter(ticker.StrMethodFormatter(\"{x:,.2f}\"))\n",
        "\n",
        "plt.title(\"Total de gastos hospitalares referente a 2019 por região\")\n",
        "plt.show()"
      ],
      "execution_count": 323,
      "outputs": [
        {
          "output_type": "display_data",
          "data": {
            "image/png": "[encoded data removed]",
            "text/plain": [
              "<Figure size 648x432 with 1 Axes>"
            ]
          },
          "metadata": {
            "tags": [],
            "needs_background": "light"
          }
        }
      ]
    },
    {
      "cell_type": "markdown",
      "metadata": {
        "id": "XUTejp8euNnV"
      },
      "source": [
        "# DESAFIO 5"
      ]
    },
    {
      "cell_type": "markdown",
      "metadata": {
        "id": "4gvXoEKLuNnW"
      },
      "source": [
        "Reproduza as análises feitas em aulas, refletindo e levantando hipóteses."
      ]
    },
    {
      "cell_type": "code",
      "metadata": {
        "colab": {
          "base_uri": "https://localhost:8080/",
          "height": 227
        },
        "id": "ZCZjUXflUBxv",
        "outputId": "3f9b36ae-f4c2-4670-8da6-30d914b39f73"
      },
      "source": [
        "# Summing the total expenses during 2018 and 2019 by each region\n",
        "grouped_regiao[\"Total 2018\"] = grouped_regiao.loc[:,\"2018/Jan\":\"2018/Dez\"].sum(axis=1)\n",
        "grouped_regiao[\"Total 2019\"] = grouped_regiao.loc[:,\"2019/Jan\":\"2019/Dez\"].sum(axis=1)\n",
        "grouped_regiao_18_19 = grouped_regiao[grouped_regiao.columns[-2:]]\n",
        "grouped_regiao_18_19"
      ],
      "execution_count": 324,
      "outputs": [
        {
          "output_type": "execute_result",
          "data": {
            "text/html": [
              "<div>\n",
              "<style scoped>\n",
              "    .dataframe tbody tr th:only-of-type {\n",
              "        vertical-align: middle;\n",
              "    }\n",
              "\n",
              "    .dataframe tbody tr th {\n",
              "        vertical-align: top;\n",
              "    }\n",
              "\n",
              "    .dataframe thead th {\n",
              "        text-align: right;\n",
              "    }\n",
              "</style>\n",
              "<table border=\"1\" class=\"dataframe\">\n",
              "  <thead>\n",
              "    <tr style=\"text-align: right;\">\n",
              "      <th></th>\n",
              "      <th>Total 2018</th>\n",
              "      <th>Total 2019</th>\n",
              "    </tr>\n",
              "    <tr>\n",
              "      <th>Região</th>\n",
              "      <th></th>\n",
              "      <th></th>\n",
              "    </tr>\n",
              "  </thead>\n",
              "  <tbody>\n",
              "    <tr>\n",
              "      <th>Centro-Oeste</th>\n",
              "      <td>1.033534e+09</td>\n",
              "      <td>1.080392e+09</td>\n",
              "    </tr>\n",
              "    <tr>\n",
              "      <th>Nordeste</th>\n",
              "      <td>3.554741e+09</td>\n",
              "      <td>3.713300e+09</td>\n",
              "    </tr>\n",
              "    <tr>\n",
              "      <th>Norte</th>\n",
              "      <td>8.555853e+08</td>\n",
              "      <td>8.858225e+08</td>\n",
              "    </tr>\n",
              "    <tr>\n",
              "      <th>Sudeste</th>\n",
              "      <td>6.373696e+09</td>\n",
              "      <td>6.641653e+09</td>\n",
              "    </tr>\n",
              "    <tr>\n",
              "      <th>Sul</th>\n",
              "      <td>3.259713e+09</td>\n",
              "      <td>3.398440e+09</td>\n",
              "    </tr>\n",
              "  </tbody>\n",
              "</table>\n",
              "</div>"
            ],
            "text/plain": [
              "                Total 2018    Total 2019\n",
              "Região                                  \n",
              "Centro-Oeste  1.033534e+09  1.080392e+09\n",
              "Nordeste      3.554741e+09  3.713300e+09\n",
              "Norte         8.555853e+08  8.858225e+08\n",
              "Sudeste       6.373696e+09  6.641653e+09\n",
              "Sul           3.259713e+09  3.398440e+09"
            ]
          },
          "metadata": {
            "tags": []
          },
          "execution_count": 324
        }
      ]
    },
    {
      "cell_type": "code",
      "metadata": {
        "colab": {
          "base_uri": "https://localhost:8080/",
          "height": 623
        },
        "id": "Wx6Y7LnefK5_",
        "outputId": "0c209bd9-bf4c-4c87-bc5b-62ab679c29b1"
      },
      "source": [
        "grouped_regiao_18_19_sort = grouped_regiao_18_19.sort_values(\"Total 2019\", ascending = False)\n",
        "\n",
        "ax = grouped_regiao_18_19_sort.plot(figsize=(12,9),kind='bar')\n",
        "\n",
        "# Draw grid lines with red color and dashed style\n",
        "plt.grid(color='gray', linestyle='-.', linewidth=0.5)\n",
        "\n",
        "# Muda o formato dos números mostrados no eixo y \n",
        "ax.yaxis.set_major_formatter(ticker.StrMethodFormatter(\"{x:,.2f}\"))\n",
        "\n",
        "plt.title(\"Total de gastos hospitalares por região referente aos anos de 2018 e 2019\")\n",
        "plt.show()"
      ],
      "execution_count": 325,
      "outputs": [
        {
          "output_type": "display_data",
          "data": {
            "image/png": "[encoded data removed]",
            "text/plain": [
              "<Figure size 864x648 with 1 Axes>"
            ]
          },
          "metadata": {
            "tags": [],
            "needs_background": "light"
          }
        }
      ]
    },
    {
      "cell_type": "code",
      "metadata": {
        "colab": {
          "base_uri": "https://localhost:8080/",
          "height": 227
        },
        "id": "YGBzwFLyShQ3",
        "outputId": "91bd3eee-c256-49ed-f4b6-cf95169f5c2a"
      },
      "source": [
        "# Estimated resident population in 2018 and 2019 \n",
        "population_copy = populacao.copy()\n",
        "population_copy = population_copy.iloc[1:6,0:2]\n",
        "population_copy"
      ],
      "execution_count": 326,
      "outputs": [
        {
          "output_type": "execute_result",
          "data": {
            "text/html": [
              "<div>\n",
              "<style scoped>\n",
              "    .dataframe tbody tr th:only-of-type {\n",
              "        vertical-align: middle;\n",
              "    }\n",
              "\n",
              "    .dataframe tbody tr th {\n",
              "        vertical-align: top;\n",
              "    }\n",
              "\n",
              "    .dataframe thead th {\n",
              "        text-align: right;\n",
              "    }\n",
              "</style>\n",
              "<table border=\"1\" class=\"dataframe\">\n",
              "  <thead>\n",
              "    <tr style=\"text-align: right;\">\n",
              "      <th></th>\n",
              "      <th>2018</th>\n",
              "      <th>2019</th>\n",
              "    </tr>\n",
              "    <tr>\n",
              "      <th>Brasil, Grande Região e Unidade da Federação</th>\n",
              "      <th></th>\n",
              "      <th></th>\n",
              "    </tr>\n",
              "  </thead>\n",
              "  <tbody>\n",
              "    <tr>\n",
              "      <th>Norte</th>\n",
              "      <td>18182253</td>\n",
              "      <td>18430980</td>\n",
              "    </tr>\n",
              "    <tr>\n",
              "      <th>Nordeste</th>\n",
              "      <td>56760780</td>\n",
              "      <td>57071654</td>\n",
              "    </tr>\n",
              "    <tr>\n",
              "      <th>Sudeste</th>\n",
              "      <td>87711946</td>\n",
              "      <td>88371433</td>\n",
              "    </tr>\n",
              "    <tr>\n",
              "      <th>Sul</th>\n",
              "      <td>29754036</td>\n",
              "      <td>29975984</td>\n",
              "    </tr>\n",
              "    <tr>\n",
              "      <th>Centro-Oeste</th>\n",
              "      <td>16085885</td>\n",
              "      <td>16297074</td>\n",
              "    </tr>\n",
              "  </tbody>\n",
              "</table>\n",
              "</div>"
            ],
            "text/plain": [
              "                                                  2018      2019\n",
              "Brasil, Grande Região e Unidade da Federação                    \n",
              "Norte                                         18182253  18430980\n",
              "Nordeste                                      56760780  57071654\n",
              "Sudeste                                       87711946  88371433\n",
              "Sul                                           29754036  29975984\n",
              "Centro-Oeste                                  16085885  16297074"
            ]
          },
          "metadata": {
            "tags": []
          },
          "execution_count": 326
        }
      ]
    },
    {
      "cell_type": "markdown",
      "metadata": {
        "id": "C4gFBKjCSZJP"
      },
      "source": [
        "Join population DataFrame to the Hospital expenses Dataframe"
      ]
    },
    {
      "cell_type": "code",
      "metadata": {
        "colab": {
          "base_uri": "https://localhost:8080/"
        },
        "id": "QpUV5SDala5Z",
        "outputId": "e2e8ea80-5877-4aeb-b830-5771d4005025"
      },
      "source": [
        "# Index of the dataframes to join\n",
        "print(grouped_regiao_18_19.index)\n",
        "print(population_copy.index)"
      ],
      "execution_count": 327,
      "outputs": [
        {
          "output_type": "stream",
          "text": [
            "Index(['Centro-Oeste', 'Nordeste', 'Norte', 'Sudeste', 'Sul'], dtype='object', name='Região')\n",
            "Index(['Norte', 'Nordeste', 'Sudeste', 'Sul', 'Centro-Oeste'], dtype='object', name='Brasil, Grande Região e Unidade da Federação')\n"
          ],
          "name": "stdout"
        }
      ]
    },
    {
      "cell_type": "code",
      "metadata": {
        "colab": {
          "base_uri": "https://localhost:8080/",
          "height": 197
        },
        "id": "lwQ8h1nHigWm",
        "outputId": "8f5a5883-0eab-4ab2-b2ce-47ac65bd46f7"
      },
      "source": [
        "total_18_19_regiao = pd.concat([grouped_regiao_18_19,population_copy], axis=1)\n",
        "total_18_19_regiao[\"Total 2018/person\"] = total_18_19_regiao.loc[:,\"Total 2018\"]/total_18_19_regiao.loc[:,\"2018\"]\n",
        "total_18_19_regiao[\"Total 2019/person\"] = total_18_19_regiao.loc[:,\"Total 2019\"]/total_18_19_regiao.loc[:,\"2019\"]\n",
        "total_18_19_regiao"
      ],
      "execution_count": 328,
      "outputs": [
        {
          "output_type": "execute_result",
          "data": {
            "text/html": [
              "<div>\n",
              "<style scoped>\n",
              "    .dataframe tbody tr th:only-of-type {\n",
              "        vertical-align: middle;\n",
              "    }\n",
              "\n",
              "    .dataframe tbody tr th {\n",
              "        vertical-align: top;\n",
              "    }\n",
              "\n",
              "    .dataframe thead th {\n",
              "        text-align: right;\n",
              "    }\n",
              "</style>\n",
              "<table border=\"1\" class=\"dataframe\">\n",
              "  <thead>\n",
              "    <tr style=\"text-align: right;\">\n",
              "      <th></th>\n",
              "      <th>Total 2018</th>\n",
              "      <th>Total 2019</th>\n",
              "      <th>2018</th>\n",
              "      <th>2019</th>\n",
              "      <th>Total 2018/person</th>\n",
              "      <th>Total 2019/person</th>\n",
              "    </tr>\n",
              "  </thead>\n",
              "  <tbody>\n",
              "    <tr>\n",
              "      <th>Centro-Oeste</th>\n",
              "      <td>1.033534e+09</td>\n",
              "      <td>1.080392e+09</td>\n",
              "      <td>16085885</td>\n",
              "      <td>16297074</td>\n",
              "      <td>64.251008</td>\n",
              "      <td>66.293589</td>\n",
              "    </tr>\n",
              "    <tr>\n",
              "      <th>Nordeste</th>\n",
              "      <td>3.554741e+09</td>\n",
              "      <td>3.713300e+09</td>\n",
              "      <td>56760780</td>\n",
              "      <td>57071654</td>\n",
              "      <td>62.626715</td>\n",
              "      <td>65.063818</td>\n",
              "    </tr>\n",
              "    <tr>\n",
              "      <th>Norte</th>\n",
              "      <td>8.555853e+08</td>\n",
              "      <td>8.858225e+08</td>\n",
              "      <td>18182253</td>\n",
              "      <td>18430980</td>\n",
              "      <td>47.056065</td>\n",
              "      <td>48.061607</td>\n",
              "    </tr>\n",
              "    <tr>\n",
              "      <th>Sudeste</th>\n",
              "      <td>6.373696e+09</td>\n",
              "      <td>6.641653e+09</td>\n",
              "      <td>87711946</td>\n",
              "      <td>88371433</td>\n",
              "      <td>72.666223</td>\n",
              "      <td>75.156103</td>\n",
              "    </tr>\n",
              "    <tr>\n",
              "      <th>Sul</th>\n",
              "      <td>3.259713e+09</td>\n",
              "      <td>3.398440e+09</td>\n",
              "      <td>29754036</td>\n",
              "      <td>29975984</td>\n",
              "      <td>109.555319</td>\n",
              "      <td>113.372075</td>\n",
              "    </tr>\n",
              "  </tbody>\n",
              "</table>\n",
              "</div>"
            ],
            "text/plain": [
              "                Total 2018    Total 2019  ...  Total 2018/person  Total 2019/person\n",
              "Centro-Oeste  1.033534e+09  1.080392e+09  ...          64.251008          66.293589\n",
              "Nordeste      3.554741e+09  3.713300e+09  ...          62.626715          65.063818\n",
              "Norte         8.555853e+08  8.858225e+08  ...          47.056065          48.061607\n",
              "Sudeste       6.373696e+09  6.641653e+09  ...          72.666223          75.156103\n",
              "Sul           3.259713e+09  3.398440e+09  ...         109.555319         113.372075\n",
              "\n",
              "[5 rows x 6 columns]"
            ]
          },
          "metadata": {
            "tags": []
          },
          "execution_count": 328
        }
      ]
    },
    {
      "cell_type": "code",
      "metadata": {
        "colab": {
          "base_uri": "https://localhost:8080/",
          "height": 608
        },
        "id": "UkQ27uNXneoK",
        "outputId": "c709aaa7-9223-430c-87a7-dd9cf6d9ad9f"
      },
      "source": [
        "total_18_19_regiao_sort = total_18_19_regiao.sort_values(\"Total 2019/person\", ascending = False)\n",
        "\n",
        "ax = total_18_19_regiao_sort.iloc[:,-2:].plot(figsize=(12,9),kind='bar')\n",
        "\n",
        "# Draw grid lines with red color and dashed style\n",
        "plt.grid(color='gray', linestyle='-.', linewidth=0.5)\n",
        "\n",
        "# Muda o formato dos números mostrados no eixo y \n",
        "ax.yaxis.set_major_formatter(ticker.StrMethodFormatter(\"{x:,.2f}\"))\n",
        "\n",
        "plt.title(\"Total de gastos hospitalares por região referente aos anos de 2018 e 2019\")\n",
        "plt.show()"
      ],
      "execution_count": 329,
      "outputs": [
        {
          "output_type": "display_data",
          "data": {
            "image/png": "[encoded data removed]",
            "text/plain": [
              "<Figure size 864x648 with 1 Axes>"
            ]
          },
          "metadata": {
            "tags": [],
            "needs_background": "light"
          }
        }
      ]
    },
    {
      "cell_type": "markdown",
      "metadata": {
        "id": "FdiVa1Awp5nJ"
      },
      "source": [
        "Although hospital expenses in the southeast and northeast regions are higher in absolute terms, the southern region has higher hospital expenses in proportion to its population."
      ]
    },
    {
      "cell_type": "markdown",
      "metadata": {
        "id": "ArLL2QAJuN0V"
      },
      "source": [
        "# SUPER DESAFIO"
      ]
    },
    {
      "cell_type": "markdown",
      "metadata": {
        "id": "FyOXzwDHuN0W"
      },
      "source": [
        "Escolha outro valor fora o valor aprovado no TABNET e explore estes dados. Esse será nosso projeto do módulo, mais detalhes no Desafio do módulo 1 na página do bootcamp."
      ]
    }
  ]
}